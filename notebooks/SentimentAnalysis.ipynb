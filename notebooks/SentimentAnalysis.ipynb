{
 "cells": [
  {
   "cell_type": "code",
   "execution_count": 1,
   "id": "84b47808-6adc-4458-bf91-5967be81fa58",
   "metadata": {},
   "outputs": [],
   "source": [
    "from transformers import pipeline"
   ]
  },
  {
   "cell_type": "code",
   "execution_count": 2,
   "id": "f8b4dce6-d7b2-4e28-ac7c-d4bc90f84b27",
   "metadata": {},
   "outputs": [
    {
     "name": "stderr",
     "output_type": "stream",
     "text": [
      "No model was supplied, defaulted to distilbert/distilbert-base-uncased-finetuned-sst-2-english and revision 714eb0f (https://huggingface.co/distilbert/distilbert-base-uncased-finetuned-sst-2-english).\n",
      "Using a pipeline without specifying a model name and revision in production is not recommended.\n"
     ]
    },
    {
     "data": {
      "application/vnd.jupyter.widget-view+json": {
       "model_id": "14bbfdfd91b44175b73f8704e88d6aa9",
       "version_major": 2,
       "version_minor": 0
      },
      "text/plain": [
       "config.json:   0%|          | 0.00/629 [00:00<?, ?B/s]"
      ]
     },
     "metadata": {},
     "output_type": "display_data"
    },
    {
     "name": "stderr",
     "output_type": "stream",
     "text": [
      "C:\\Users\\HP\\anaconda3\\Lib\\site-packages\\huggingface_hub\\file_download.py:143: UserWarning: `huggingface_hub` cache-system uses symlinks by default to efficiently store duplicated files but your machine does not support them in C:\\Users\\HP\\.cache\\huggingface\\hub\\models--distilbert--distilbert-base-uncased-finetuned-sst-2-english. Caching files will still work but in a degraded version that might require more space on your disk. This warning can be disabled by setting the `HF_HUB_DISABLE_SYMLINKS_WARNING` environment variable. For more details, see https://huggingface.co/docs/huggingface_hub/how-to-cache#limitations.\n",
      "To support symlinks on Windows, you either need to activate Developer Mode or to run Python as an administrator. In order to activate developer mode, see this article: https://docs.microsoft.com/en-us/windows/apps/get-started/enable-your-device-for-development\n",
      "  warnings.warn(message)\n"
     ]
    },
    {
     "name": "stdout",
     "output_type": "stream",
     "text": [
      "WARNING:tensorflow:From C:\\Users\\HP\\anaconda3\\Lib\\site-packages\\tf_keras\\src\\losses.py:2976: The name tf.losses.sparse_softmax_cross_entropy is deprecated. Please use tf.compat.v1.losses.sparse_softmax_cross_entropy instead.\n",
      "\n"
     ]
    },
    {
     "name": "stderr",
     "output_type": "stream",
     "text": [
      "Xet Storage is enabled for this repo, but the 'hf_xet' package is not installed. Falling back to regular HTTP download. For better performance, install the package with: `pip install huggingface_hub[hf_xet]` or `pip install hf_xet`\n"
     ]
    },
    {
     "data": {
      "application/vnd.jupyter.widget-view+json": {
       "model_id": "4bdd88d00357462694fe725aa42a7955",
       "version_major": 2,
       "version_minor": 0
      },
      "text/plain": [
       "model.safetensors:   0%|          | 0.00/268M [00:00<?, ?B/s]"
      ]
     },
     "metadata": {},
     "output_type": "display_data"
    },
    {
     "data": {
      "application/vnd.jupyter.widget-view+json": {
       "model_id": "944a412b4d234121b621f784ccda0744",
       "version_major": 2,
       "version_minor": 0
      },
      "text/plain": [
       "tokenizer_config.json:   0%|          | 0.00/48.0 [00:00<?, ?B/s]"
      ]
     },
     "metadata": {},
     "output_type": "display_data"
    },
    {
     "data": {
      "application/vnd.jupyter.widget-view+json": {
       "model_id": "7d00710407fc43a8a6884b7f619f8a8b",
       "version_major": 2,
       "version_minor": 0
      },
      "text/plain": [
       "vocab.txt: 0.00B [00:00, ?B/s]"
      ]
     },
     "metadata": {},
     "output_type": "display_data"
    },
    {
     "name": "stderr",
     "output_type": "stream",
     "text": [
      "Device set to use cpu\n"
     ]
    }
   ],
   "source": [
    "sentiment_pipeline = pipeline(\"sentiment-analysis\")"
   ]
  },
  {
   "cell_type": "code",
   "execution_count": 27,
   "id": "fe073edc-7dbf-48a4-806c-9e61ce2f98d1",
   "metadata": {},
   "outputs": [],
   "source": [
    "data = [\n",
    "    \"I absolutely love this product! It's amazing.\",        \n",
    "    \"This is the worst experience I've ever had.\",         \n",
    "    \"The weather today is okay, nothing special.\",          \n",
    "    \"The movie was fantastic, I enjoyed every moment.\",     \n",
    "    \"Terrible service, I will not come back again.\",        \n",
    "    \"It's just an ordinary day.\",                           \n",
    "    \"Such a beautiful and inspiring book.\",                \n",
    "    \"I hate how slow the website is.\",                     \n",
    "    \"Nothing much happened today.\",                         \n",
    "    \"This new phone is incredible, so smooth.\",            \n",
    "    \"Awful taste, I couldn't eat it.\",                      \n",
    "    \"Traffic was moderate, neither good nor bad.\",          \n",
    "    \"Wonderful experience at the hotel.\",                  \n",
    "    \"Disappointed by the lack of features.\",               \n",
    "    \"The presentation was average.\",                        \n",
    "    \"The staff was very helpful and friendly.\",             \n",
    "    \"Very noisy environment, I didn’t like it.\",           \n",
    "    \"It’s just another typical meeting.\",                   \n",
    "    \"Brilliant performance by the artist.\",                 \n",
    "    \"Completely useless product, waste of money.\"          \n",
    "]\n"
   ]
  },
  {
   "cell_type": "code",
   "execution_count": 29,
   "id": "93174c01-8625-4189-8c85-81ede8fa546d",
   "metadata": {},
   "outputs": [],
   "source": [
    "results = sentiment_pipeline(data)"
   ]
  },
  {
   "cell_type": "code",
   "execution_count": 31,
   "id": "8331a277-d13a-4fa0-86a8-d895bcc42f68",
   "metadata": {},
   "outputs": [
    {
     "data": {
      "text/plain": [
       "[{'label': 'POSITIVE', 'score': 0.9998855590820312},\n",
       " {'label': 'NEGATIVE', 'score': 0.9997679591178894},\n",
       " {'label': 'NEGATIVE', 'score': 0.995194137096405},\n",
       " {'label': 'POSITIVE', 'score': 0.9998880624771118},\n",
       " {'label': 'NEGATIVE', 'score': 0.9934259653091431},\n",
       " {'label': 'NEGATIVE', 'score': 0.9766604900360107},\n",
       " {'label': 'POSITIVE', 'score': 0.9998863935470581},\n",
       " {'label': 'NEGATIVE', 'score': 0.9997531771659851},\n",
       " {'label': 'NEGATIVE', 'score': 0.9989688396453857},\n",
       " {'label': 'POSITIVE', 'score': 0.9998676776885986},\n",
       " {'label': 'NEGATIVE', 'score': 0.9994685053825378},\n",
       " {'label': 'NEGATIVE', 'score': 0.9283146858215332},\n",
       " {'label': 'POSITIVE', 'score': 0.9998866319656372},\n",
       " {'label': 'NEGATIVE', 'score': 0.9998138546943665},\n",
       " {'label': 'NEGATIVE', 'score': 0.9757533073425293},\n",
       " {'label': 'POSITIVE', 'score': 0.9998458623886108},\n",
       " {'label': 'NEGATIVE', 'score': 0.9990523457527161},\n",
       " {'label': 'NEGATIVE', 'score': 0.9983065128326416},\n",
       " {'label': 'POSITIVE', 'score': 0.9998733997344971},\n",
       " {'label': 'NEGATIVE', 'score': 0.9998031258583069}]"
      ]
     },
     "execution_count": 31,
     "metadata": {},
     "output_type": "execute_result"
    }
   ],
   "source": [
    "results"
   ]
  },
  {
   "cell_type": "code",
   "execution_count": 33,
   "id": "76cf8eb3-155a-4b8d-8b2c-69966684dd8a",
   "metadata": {},
   "outputs": [
    {
     "name": "stdout",
     "output_type": "stream",
     "text": [
      "Text: I absolutely love this product! It's amazing.\n",
      "Prediction: POSITIVE (Confidence: 0.9998855590820312)\n",
      "--------------------------------------------------\n",
      "Text: This is the worst experience I've ever had.\n",
      "Prediction: NEGATIVE (Confidence: 0.9997679591178894)\n",
      "--------------------------------------------------\n",
      "Text: The weather today is okay, nothing special.\n",
      "Prediction: NEGATIVE (Confidence: 0.995194137096405)\n",
      "--------------------------------------------------\n",
      "Text: The movie was fantastic, I enjoyed every moment.\n",
      "Prediction: POSITIVE (Confidence: 0.9998880624771118)\n",
      "--------------------------------------------------\n",
      "Text: Terrible service, I will not come back again.\n",
      "Prediction: NEGATIVE (Confidence: 0.9934259653091431)\n",
      "--------------------------------------------------\n",
      "Text: It's just an ordinary day.\n",
      "Prediction: NEGATIVE (Confidence: 0.9766604900360107)\n",
      "--------------------------------------------------\n",
      "Text: Such a beautiful and inspiring book.\n",
      "Prediction: POSITIVE (Confidence: 0.9998863935470581)\n",
      "--------------------------------------------------\n",
      "Text: I hate how slow the website is.\n",
      "Prediction: NEGATIVE (Confidence: 0.9997531771659851)\n",
      "--------------------------------------------------\n",
      "Text: Nothing much happened today.\n",
      "Prediction: NEGATIVE (Confidence: 0.9989688396453857)\n",
      "--------------------------------------------------\n",
      "Text: This new phone is incredible, so smooth.\n",
      "Prediction: POSITIVE (Confidence: 0.9998676776885986)\n",
      "--------------------------------------------------\n",
      "Text: Awful taste, I couldn't eat it.\n",
      "Prediction: NEGATIVE (Confidence: 0.9994685053825378)\n",
      "--------------------------------------------------\n",
      "Text: Traffic was moderate, neither good nor bad.\n",
      "Prediction: NEGATIVE (Confidence: 0.9283146858215332)\n",
      "--------------------------------------------------\n",
      "Text: Wonderful experience at the hotel.\n",
      "Prediction: POSITIVE (Confidence: 0.9998866319656372)\n",
      "--------------------------------------------------\n",
      "Text: Disappointed by the lack of features.\n",
      "Prediction: NEGATIVE (Confidence: 0.9998138546943665)\n",
      "--------------------------------------------------\n",
      "Text: The presentation was average.\n",
      "Prediction: NEGATIVE (Confidence: 0.9757533073425293)\n",
      "--------------------------------------------------\n",
      "Text: The staff was very helpful and friendly.\n",
      "Prediction: POSITIVE (Confidence: 0.9998458623886108)\n",
      "--------------------------------------------------\n",
      "Text: Very noisy environment, I didn’t like it.\n",
      "Prediction: NEGATIVE (Confidence: 0.9990523457527161)\n",
      "--------------------------------------------------\n",
      "Text: It’s just another typical meeting.\n",
      "Prediction: NEGATIVE (Confidence: 0.9983065128326416)\n",
      "--------------------------------------------------\n",
      "Text: Brilliant performance by the artist.\n",
      "Prediction: POSITIVE (Confidence: 0.9998733997344971)\n",
      "--------------------------------------------------\n",
      "Text: Completely useless product, waste of money.\n",
      "Prediction: NEGATIVE (Confidence: 0.9998031258583069)\n",
      "--------------------------------------------------\n"
     ]
    }
   ],
   "source": [
    "for text, result in zip(data, results):\n",
    "    print(f\"Text: {text}\")\n",
    "    print(f\"Prediction: {result['label']} (Confidence: {result['score']})\")\n",
    "    print(\"-\" * 50)"
   ]
  }
 ],
 "metadata": {
  "kernelspec": {
   "display_name": "Python [conda env:base] *",
   "language": "python",
   "name": "conda-base-py"
  },
  "language_info": {
   "codemirror_mode": {
    "name": "ipython",
    "version": 3
   },
   "file_extension": ".py",
   "mimetype": "text/x-python",
   "name": "python",
   "nbconvert_exporter": "python",
   "pygments_lexer": "ipython3",
   "version": "3.11.9"
  }
 },
 "nbformat": 4,
 "nbformat_minor": 5
}
